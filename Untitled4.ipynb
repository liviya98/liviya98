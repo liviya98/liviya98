{
  "nbformat": 4,
  "nbformat_minor": 0,
  "metadata": {
    "colab": {
      "provenance": [],
      "authorship_tag": "ABX9TyNJfkl3WUW8H09ypM7sqgWU",
      "include_colab_link": true
    },
    "kernelspec": {
      "name": "python3",
      "display_name": "Python 3"
    },
    "language_info": {
      "name": "python"
    }
  },
  "cells": [
    {
      "cell_type": "markdown",
      "metadata": {
        "id": "view-in-github",
        "colab_type": "text"
      },
      "source": [
        "<a href=\"https://colab.research.google.com/github/liviya98/liviya98/blob/main/Untitled4.ipynb\" target=\"_parent\"><img src=\"https://colab.research.google.com/assets/colab-badge.svg\" alt=\"Open In Colab\"/></a>"
      ]
    },
    {
      "cell_type": "code",
      "execution_count": 1,
      "metadata": {
        "colab": {
          "base_uri": "https://localhost:8080/",
          "height": 482
        },
        "id": "zMJa2D8QJBDi",
        "outputId": "ae57e6d9-13dd-4967-d931-203e5c37de04"
      },
      "outputs": [
        {
          "output_type": "display_data",
          "data": {
            "text/plain": [
              "<Figure size 640x480 with 1 Axes>"
            ],
            "image/png": "[encoded data removed]"
          },
          "metadata": {}
        },
        {
          "output_type": "stream",
          "name": "stdout",
          "text": [
            "[(4, 21), (5, 19), (10, 24), (4, 17), (3, 16), (11, 25), (14, 24), (8, 22), (10, 21), (12, 21)]\n",
            "[0, 0, 1, 0, 0, 1, 1, 0, 1, 1]\n",
            "The majority class for the new point is: 1\n"
          ]
        }
      ],
      "source": [
        "import math\n",
        "import matplotlib.pyplot as plt\n",
        "a = [4, 5, 10, 4, 3, 11, 14, 8, 10, 12]\n",
        "b = [21, 19, 24, 17, 16, 25, 24, 22, 21, 21]\n",
        "classes = [0, 0, 1, 0, 0, 1, 1, 0, 1, 1]\n",
        "plt.scatter(a, b, c = classes)\n",
        "plt.show()\n",
        "data = list(zip(a, b))\n",
        "print(data)\n",
        "print(classes)\n",
        "new_point = (9, 24)\n",
        "k = 3\n",
        "distances_with_classes = [(math.sqrt((x - new_point[0])**2+(y - new_point[1])**2), cls)\n",
        "for (x, y), cls in zip(data, classes)]\n",
        "# for (x, y), cls in zip(data, classes):\n",
        "# distance = math.sqrt((x - new_point[0])**2 + (y - new_point[1])**2)\n",
        "# distance_with_classes.append((distance, cls))\n",
        "distances_with_classes.sort()\n",
        "k_nearest = distances_with_classes[:k]\n",
        "k_nearest_classes = [cls for _, cls in k_nearest]\n",
        "majority_class = max(set(k_nearest_classes), key=k_nearest_classes.count)\n",
        "print(\"The majority class for the new point is:\", majority_class)\n"
      ]
    }
  ]
}